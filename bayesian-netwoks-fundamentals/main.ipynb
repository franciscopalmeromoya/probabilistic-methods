{
 "cells": [
  {
   "attachments": {},
   "cell_type": "markdown",
   "metadata": {},
   "source": [
    "## Ejercicio 1.1"
   ]
  },
  {
   "cell_type": "code",
   "execution_count": 1,
   "metadata": {},
   "outputs": [
    {
     "name": "stdout",
     "output_type": "stream",
     "text": [
      "Ejercicio 1.1\n"
     ]
    },
    {
     "ename": "",
     "evalue": "",
     "output_type": "error",
     "traceback": [
      "\u001b[1;31mCanceled future for execute_request message before replies were done"
     ]
    },
    {
     "ename": "",
     "evalue": "",
     "output_type": "error",
     "traceback": [
      "\u001b[1;31mThe Kernel crashed while executing code in the the current cell or a previous cell. Please review the code in the cell(s) to identify a possible cause of the failure. Click <a href='https://aka.ms/vscodeJupyterKernelCrash'>here</a> for more info. View Jupyter <a href='command:jupyter.viewOutput'>log</a> for further details."
     ]
    }
   ],
   "source": [
    "import matplotlib.pyplot as plt\n",
    "import daft\n",
    "from daft import PGM\n",
    "from pgmpy.models.MarkovNetwork import MarkovNetwork\n",
    "\n",
    "def convert_pgm_to_pgmpy(pgm):\n",
    "    \"\"\"From Daft PGM to a pgmpy MarkovNetwork\"\"\"\n",
    "    edges = [(edge.node1.name, edge.node2.name) for edge in pgm._edges]\n",
    "    model = MarkovNetwork(edges)\n",
    "    return model\n",
    "\n",
    "print('Ejercicio 1.1')\n",
    "\n",
    "pgm = PGM(shape=[4, 6], directed=False)\n",
    "\n",
    "pgm.add_node(daft.Node('A', r\"A\", 2, 4))\n",
    "pgm.add_node(daft.Node('B', r\"B\", 2.5, 3))\n",
    "pgm.add_node(daft.Node('D', r\"D\", 3, 2))\n",
    "pgm.add_node(daft.Node('C', r\"C\", 1, 2))\n",
    "pgm.add_node(daft.Node('E', r\"E\", 2, 1))\n",
    "\n",
    "pgm.add_edge('A', 'B')\n",
    "pgm.add_edge('A', 'C')\n",
    "pgm.add_edge('B', 'C')\n",
    "pgm.add_edge('B', 'D')\n",
    "pgm.add_edge('C', 'E')\n",
    "pgm.add_edge('D', 'E')\n",
    "\n",
    "pgm.render()\n",
    "plt.savefig('graph1.png', dpi=300)\n",
    "\n",
    "\n",
    "graph = convert_pgm_to_pgmpy(pgm)\n",
    "\n",
    "print(graph.get_local_independencies())\n",
    "\n"
   ]
  },
  {
   "attachments": {},
   "cell_type": "markdown",
   "metadata": {},
   "source": [
    "## Ejercicio 1.2"
   ]
  },
  {
   "cell_type": "code",
   "execution_count": null,
   "metadata": {},
   "outputs": [],
   "source": [
    "pgm = PGM(shape = [5, 5], directed = True)\n",
    "\n",
    "pgm.add_node(daft.Node('A', r\"A\", 1, 4))\n",
    "pgm.add_node(daft.Node('B', r\"B\", 2, 4))\n",
    "pgm.add_node(daft.Node('D', r\"D\", 1, 3))\n",
    "pgm.add_node(daft.Node('C', r\"C\", 3, 4))\n",
    "pgm.add_node(daft.Node('E', r\"E\", 3, 3))\n",
    "pgm.add_node(daft.Node('F', r\"F\", 2, 2))\n",
    "pgm.add_node(daft.Node('G', r\"G\", 4, 2))\n",
    "\n",
    "pgm.add_edge('A', 'D')\n",
    "pgm.add_edge('B', 'D')\n",
    "pgm.add_edge('B', 'E')\n",
    "pgm.add_edge('C', 'E')\n",
    "pgm.add_edge('D', 'F')\n",
    "pgm.add_edge('E', 'F')\n",
    "pgm.add_edge('E', 'G')\n",
    "\n",
    "pgm.render()\n",
    "plt.savefig('graph2.png', dpi=300)\n",
    "\n",
    "\n",
    "graph = convert_pgm_to_pgmpy(pgm)\n",
    "\n",
    "print(graph.get_local_independencies())\n",
    "\n"
   ]
  }
 ],
 "metadata": {
  "kernelspec": {
   "display_name": "base",
   "language": "python",
   "name": "python3"
  },
  "language_info": {
   "codemirror_mode": {
    "name": "ipython",
    "version": 3
   },
   "file_extension": ".py",
   "mimetype": "text/x-python",
   "name": "python",
   "nbconvert_exporter": "python",
   "pygments_lexer": "ipython3",
   "version": "3.8.8"
  },
  "orig_nbformat": 4,
  "vscode": {
   "interpreter": {
    "hash": "ef0d3eaac19d23329443f0a69b97848fe637555c69428bc3ab1c9815d9c7cd6d"
   }
  }
 },
 "nbformat": 4,
 "nbformat_minor": 2
}
